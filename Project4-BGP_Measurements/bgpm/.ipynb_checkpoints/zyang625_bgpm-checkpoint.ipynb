{
 "cells": [
  {
   "cell_type": "markdown",
   "id": "daily-locator",
   "metadata": {},
   "source": [
    "**BGP Measurements Project - Jupyter Notebook**"
   ]
  },
  {
   "cell_type": "markdown",
   "id": "hindu-joining",
   "metadata": {},
   "source": [
    "NOTE: There is an associated PDF Project Description for the BGP Measurements project.\n",
    "That document has instructions on how to install and use Jupyter Notebooks.\n",
    "The project description also has important information about how to submit and warnings about plagiarism. **Please be\n",
    "sure to read through the project description before starting on this project**"
   ]
  },
  {
   "cell_type": "code",
   "execution_count": 29,
   "id": "hydraulic-lesbian",
   "metadata": {},
   "outputs": [],
   "source": [
    "# Import the pybgpstream library and any graphing library here\n",
    "\n",
    "import pybgpstream\n",
    "from matplotlib import pyplot as plt\n",
    "from _collections import defaultdict\n",
    "import re\n",
    "import os\n",
    "from datetime import datetime"
   ]
  },
  {
   "cell_type": "markdown",
   "id": "aggregate-yugoslavia",
   "metadata": {},
   "source": [
    "**Task 1: Historic measurement - Prefixes and ASes growth over time** \n",
    "\n",
    "**A. Plots: a) Read Data** Read in / Process /Filter. Write code to process the data for all of the .cache files in the rib_files directory\n",
    "with PyBGPstream.\n",
    "\n",
    "You will need to set the stream data_interface to “single file” with the following command:\n",
    "`pybgpstream.BGPStream(data_interface=\"singlefile\")`\n",
    "\n",
    "\n",
    "After the `data_interface` has been set, make sure its interface options are set with:\n",
    "`stream.set_data_interface_option(\"singlefile\", \"rib-file\", filepath)`\n",
    "where `filepath` is a placeholder for a specific cache file."
   ]
  },
  {
   "cell_type": "code",
   "execution_count": 30,
   "id": "bound-prompt",
   "metadata": {},
   "outputs": [],
   "source": [
    "# Replace the contents of this cell with your code for Task 1 part A\n",
    "filepath = '/home/mininet/Desktop/BGPMeasurements/bgpm/cache_files/rib_files/'\n",
    "files = []\n",
    "stream_map = {}\n",
    "for f in os.listdir(filepath):\n",
    "    year = datetime.fromtimestamp(int(re.search('ribs.(.+?).120', f).group(1))).year\n",
    "    stream = pybgpstream.BGPStream(data_interface = 'singlefile',record_type = 'ribs')\n",
    "    stream.set_data_interface_option('singlefile','rib-file',filepath+f)\n",
    "    stream_map[year] = stream"
   ]
  },
  {
   "cell_type": "markdown",
   "id": "taken-level",
   "metadata": {},
   "source": [
    "**A. Plots: b) Plot Graphs** Using the data from part A, plot a line graph that shows the number of total unique prefixes over time.\n",
    "\n",
    "1. The X-axis should represent time (e.g. January 2013, January 2014 and so on)\n",
    "\n",
    "2. The Y-axis represents the number of unique prefixes within the specific time period (e.g. January 2013, January 2014 and so on).\n",
    "\n",
    "3. Repeat steps 1 and 2 for the unique number of ASes over time.\n",
    "\n",
    "4. Make sure each graph and its axes are clearly labeled."
   ]
  },
  {
   "cell_type": "code",
   "execution_count": 31,
   "id": "white-canon",
   "metadata": {},
   "outputs": [
    {
     "data": {
      "image/png": "[encoded data removed]",
      "text/plain": [
       "<Figure size 432x288 with 1 Axes>"
      ]
     },
     "metadata": {
      "needs_background": "light"
     },
     "output_type": "display_data"
    },
    {
     "data": {
      "image/png": "[encoded data removed]",
      "text/plain": [
       "<Figure size 432x288 with 1 Axes>"
      ]
     },
     "metadata": {
      "needs_background": "light"
     },
     "output_type": "display_data"
    }
   ],
   "source": [
    "#Replace the contents of this cell with your code for Task 1 part B\n",
    "count_pfx = []\n",
    "count_ases = []\n",
    "for i in range(2013,2022):\n",
    "    stream = stream_map[i]\n",
    "    unique_pfx = set()\n",
    "    unique_ases = set()\n",
    "    cnt_pfx = 0\n",
    "    cnt_ases = 0\n",
    "    for rec in stream.records():\n",
    "        for elem in rec:\n",
    "            pfx = elem.fields['prefix']\n",
    "            if pfx not in unique_pfx:\n",
    "                unique_pfx.add(pfx)\n",
    "                cnt_pfx += 1\n",
    "\n",
    "            ases = elem.fields['as-path'].split(' ')\n",
    "            for e in ases:\n",
    "                if e not in unique_ases:\n",
    "                    unique_ases.add(e)\n",
    "                    cnt_ases += 1\n",
    "    count_pfx.append(cnt_pfx)\n",
    "    count_ases.append(cnt_ases)\n",
    "\n",
    "time = ['Jan '+ str(i) for i in range(2013,2022)]\n",
    "plt.plot(time,count_pfx)\n",
    "plt.ylabel('Unique Prefixes')\n",
    "plt.xlabel('Year')\n",
    "plt.show()\n",
    "\n",
    "plt.plot(time, count_ases)\n",
    "plt.ylabel('Unique ASes')\n",
    "plt.xlabel('Year')\n",
    "plt.show()"
   ]
  },
  {
   "cell_type": "markdown",
   "id": "attractive-subdivision",
   "metadata": {},
   "source": [
    "**B.**\n",
    "In the following cells answer the following:"
   ]
  },
  {
   "cell_type": "markdown",
   "id": "ebb991af",
   "metadata": {},
   "source": [
    "1. What do you notice about the overall trend of the two graphs?\n",
    "(e.g. how would you describe the overall growth of prefixes, overall growth of ASes)?"
   ]
  },
  {
   "cell_type": "markdown",
   "id": "51937d1a",
   "metadata": {},
   "source": [
    "<span style=\"color:red\">**Overall, both prefixes and ASes grow linerally over the years.**</span>"
   ]
  },
  {
   "cell_type": "markdown",
   "id": "70e093d7",
   "metadata": {},
   "source": [
    "2. For each origin AS examine the total unique prefixes they advertise over time.\n",
    "What is the trend that you notice for most origin ASes?"
   ]
  },
  {
   "cell_type": "markdown",
   "id": "15f9fb03",
   "metadata": {},
   "source": [
    "<span style=\"color:red\">**For the number of unique prefix each origin AS advisetises, even though some origin ASes show slight decrease or stability, most origin AS shows a significant increase over time.**</span>\n"
   ]
  },
  {
   "cell_type": "markdown",
   "id": "f99de4f6",
   "metadata": {},
   "source": [
    "3. Locate the origin ASes that experience the largest growth of advertised unique prefixes over time.\n",
    "To calculate the growth for an AS, identify the first and the last snapshot where the AS appeared in the dataset.\n",
    "Calculate the percentage increase of the advertised prefixes, using the first and the last snapshot. Report the top 10 origin ASes.\n"
   ]
  },
  {
   "cell_type": "markdown",
   "id": "e97801fe",
   "metadata": {},
   "source": [
    "<span style=\"color:red\">**The top 10 origin ASes that have been observed with the largest growth of advertised unique prefixes are ['62240', '22884', '21859', '58224', '46573', '36903', '61317', '31898', '385', '135887']**</span>"
   ]
  },
  {
   "cell_type": "markdown",
   "id": "1733327c",
   "metadata": {},
   "source": [
    "**Task 2. Historic measurement - AS-path length evolution over time**\n",
    "\n",
    "For this task you should use the same data collected as in Task 1.\n",
    "For each origin AS, for each year, compute the shortest AS path length.\n",
    "To compute the shortest path lengths for each path consider each AS only once\n",
    "(by removing duplicate entries of the same AS) and count the AS hops in the path.\n",
    "\n",
    "**A**. To see how the shortest path lengths are distributed across the origin ASes create an\n",
    "ECDF as follows: For each month, plot an ECDF of the shortest AS path lengths across all origin ASes. You should have\n",
    "one ECDF for January 2013, one ECDF for January 2014, and so on. You should overlay multiple lines on one chart."
   ]
  },
  {
   "cell_type": "code",
   "execution_count": 32,
   "id": "partial-appearance",
   "metadata": {},
   "outputs": [
    {
     "data": {
      "image/png": "[encoded data removed]",
      "text/plain": [
       "<Figure size 432x288 with 1 Axes>"
      ]
     },
     "metadata": {
      "needs_background": "light"
     },
     "output_type": "display_data"
    }
   ],
   "source": [
    "# Replace the contents of this cell with your code for Task 2 part A\n",
    "from itertools import groupby\n",
    "from statsmodels.distributions.empirical_distribution import ECDF\n",
    "\n",
    "for f in os.listdir(filepath):\n",
    "    year = datetime.fromtimestamp(int(re.search('ribs.(.+?).120', f).group(1))).year\n",
    "    stream = pybgpstream.BGPStream(data_interface = 'singlefile',record_type = 'ribs')\n",
    "    stream.set_data_interface_option('singlefile','rib-file',filepath+f)\n",
    "    stream_map[year] = stream\n",
    "\n",
    "bgp_lens = defaultdict(lambda: defaultdict(lambda: 0))\n",
    "\n",
    "for i in range(2013, 2022):\n",
    "    stream = stream_map[i]\n",
    "    for rec in stream.records():\n",
    "        for elem in rec:\n",
    "            peer = str(elem.peer_asn)\n",
    "            hops = [k for k,g in groupby(elem.fields['as-path'].split(' '))]\n",
    "            if len(hops) >= 1:\n",
    "                origin = hops[-1]\n",
    "                current_hop = bgp_lens[i][origin]\n",
    "                if current_hop > 0:\n",
    "                    bgp_lens[i][origin] = min(len(hops), current_hop)\n",
    "                else:\n",
    "                    bgp_lens[i][origin] = len(hops)\n",
    "                    \n",
    "for i in range(2013, 2022):\n",
    "    values = []\n",
    "    for v in bgp_lens[i].values():\n",
    "        values.append(v)\n",
    "    ecdf = ECDF(values)\n",
    "    plt.plot(ecdf.x, ecdf.y)\n",
    "\n",
    "plt.legend(['Jan ' + str(i) for i in range(2013, 2022)])\n",
    "plt.show()"
   ]
  },
  {
   "cell_type": "markdown",
   "id": "regulated-smoke",
   "metadata": {},
   "source": [
    "**B.**\n",
    "In the text/markdown fields after your code cell in the Notebook, answer these \tquestions:"
   ]
  },
  {
   "cell_type": "markdown",
   "id": "1d0f3653",
   "metadata": {},
   "source": [
    "1. What is the trend of the AS path lengths progressing over time? Justify your answer with the data you collected – be specific."
   ]
  },
  {
   "cell_type": "markdown",
   "id": "56d0e5e9",
   "metadata": {},
   "source": [
    "<span style=\"color:red\">\n",
    "Overall, the AS path lengths shows a decreasing trend over time, with length from 5 to 3 showing a growing trend and the short and long path lengths trend reamining stable.\n",
    "For lengths of 3, 4 and 5, the observation of each length in early years (2013- 2015) is around 10%, 60% and 20% respectively and the observation shifted to around 40%, 50% and 10% in the later years. Shorter paths are observed more in the later years and thus, the path lengths is overall decreasing.</span>"
   ]
  },
  {
   "cell_type": "markdown",
   "id": "fd40ff6d",
   "metadata": {},
   "source": [
    "2. From the shortest paths you have already computed, which are the top 5 origin ASes with the longest paths per month,\n",
    "and do these ASes stay the same as time progresses?"
   ]
  },
  {
   "cell_type": "markdown",
   "id": "09c57e0a",
   "metadata": {},
   "source": [
    "<span style=\"color:red\">**The top 5 origin ASes with the longest paths per month in each year are as below:<br>\n",
    "2013: 52906,53036,47237,50873,45554<br>\n",
    "2014: 51979,56369,131361,50483,41800<br>\n",
    "2015: 44153,47668,472,474,477<br>\n",
    "2016: 61668,30073,1501,50139,27817<br>\n",
    "2017: 58216,28976,3263,56660,58250<br>\n",
    "2018: 12697,62793,59526,59553,1501<br>\n",
    "2019: 61248,61962,44349,1501,267429<br>\n",
    "2020: 61362,18155,145,57461,202570<br>\n",
    "2021: 48608,202570,1501,60663,207281<br>\n",
    "    They are not the same as time progresses**</span>"
   ]
  },
  {
   "cell_type": "markdown",
   "id": "northern-integer",
   "metadata": {},
   "source": [
    "**Task 3. Blackholing events**\n",
    "\n",
    "Have a look at :\n",
    "What is a Blackhole event? https://tools.ietf.org/html/rfc7999#section-2  \n",
    "\n",
    "Example Blackhole event: https://blog.apnic.net/2019/03/22/bgp-communities-a-weapon-for-the-internet-part-2/  \n",
    "\n",
    "**A.**\n",
    "Locate the directory update_files_blackholing included with this assignment. This is a collection of BGP Updates from\n",
    "January 2, 2021 5:00 to January 2, 2021 9:00. As in Task 1B, write code to process all of the update cache files."
   ]
  },
  {
   "cell_type": "code",
   "execution_count": 33,
   "id": "1677a6c3",
   "metadata": {
    "pycharm": {
     "name": "#%%\n"
    }
   },
   "outputs": [],
   "source": [
    "# Replace the contents of this cell with your code for Task 3 part A\n",
    "update_file_path = '/home/mininet/Desktop/BGPMeasurements/bgpm/cache_files/update_files_blackholing/'\n",
    "files = []\n",
    "blackholinng = []\n",
    "for f in os.listdir(update_file_path):\n",
    "    files.append(f)\n",
    "files.sort()\n",
    "\n",
    "for f in files:\n",
    "    stream = pybgpstream.BGPStream(data_interface='singlefile',\n",
    "                                    filter = 'ipversion 4'\n",
    "                                    )\n",
    "    stream.set_data_interface_option('singlefile', 'rib-file', update_file_path + f)\n",
    "    blackholinng.append(stream)"
   ]
  },
  {
   "cell_type": "markdown",
   "id": "fc523fba",
   "metadata": {},
   "source": [
    "**B.**\n",
    "Identify the IPV4 prefixes that are tagged with at least one Remote Triggered Blackholing (RTBH) community. Measure the\n",
    "time duration of the RBTH event. This is the time elapsed between the Announcement and Withdrawal of the IPV4 prefix\n",
    "tagged with the RTBH community. We are interested only in non-zero durations. For example, for a stream A1 A2\n",
    "A3_RTBH_tagged W1 W2 W3 W4, compute the A3_RTBH_tagged - W1 per prefix, and per peer IP."
   ]
  },
  {
   "cell_type": "code",
   "execution_count": 34,
   "id": "17e65432",
   "metadata": {
    "pycharm": {
     "name": "#%%\n"
    }
   },
   "outputs": [],
   "source": [
    "# Replace the contents of this cell with your code for Task 3 part B\n",
    "rtbh_elem = defaultdict(lambda: [])\n",
    "\n",
    "for stream in blackholinng:\n",
    "    for rec in stream.records():\n",
    "        for elem in rec:\n",
    "            if elem.type == 'A':\n",
    "                pfx = elem.fields['prefix']\n",
    "                peer_add = elem.peer_address\n",
    "                rtbh_elem[(pfx, peer_add)].append(('A', int(elem.time), elem))\n",
    "                communities = elem.fields['communities']\n",
    "            elif elem.type == 'W':\n",
    "                pfx = elem.fields['prefix']\n",
    "                peer_add = elem.peer_address\n",
    "                if (pfx, peer_add) in rtbh_elem.keys():\n",
    "                    rtbh_elem[(pfx, peer_add)].append(('W', int(elem.time)))\n",
    "\n",
    "dur_list = []\n",
    "for (pfx, peerip) in rtbh_elem.keys():\n",
    "    curr_A = ()\n",
    "    prev_is_A = False\n",
    "    for e in rtbh_elem[(pfx, peerip)]:\n",
    "        if e[0] == 'A':\n",
    "            prev_is_A = True\n",
    "            curr_A = e\n",
    "        elif e[0] == 'W' and prev_is_A and any(':666' in c for c in curr_A[2].fields['communities']):\n",
    "            dur = e[1] - curr_A[1]\n",
    "            if dur > 0:\n",
    "                dur_list.append(dur)\n",
    "            prev_is_A = False\n",
    "            curr_A = ()\n",
    "        else:\n",
    "            prev_is_A = False\n",
    "            curr_A = ()"
   ]
  },
  {
   "cell_type": "markdown",
   "id": "76fcaaa2",
   "metadata": {},
   "source": [
    "**C.**\n",
    "Plot an ECDF of the event durations."
   ]
  },
  {
   "cell_type": "code",
   "execution_count": 35,
   "id": "a07579b3",
   "metadata": {
    "pycharm": {
     "name": "#%%\n"
    },
    "scrolled": false
   },
   "outputs": [
    {
     "data": {
      "image/png": "[encoded data removed]",
      "text/plain": [
       "<Figure size 432x288 with 1 Axes>"
      ]
     },
     "metadata": {
      "needs_background": "light"
     },
     "output_type": "display_data"
    }
   ],
   "source": [
    "# Replace the contents of this cell with your code for Task 3 part C\n",
    "ecdf = ECDF(dur_list)\n",
    "plt.plot(ecdf.x, ecdf.y,drawstyle = 'steps-post')\n",
    "plt.title('ECDF of Blackhole event durations')\n",
    "# plt.xlim(0,)\n",
    "plt.show()"
   ]
  },
  {
   "cell_type": "markdown",
   "id": "eefe08da",
   "metadata": {},
   "source": [
    "**D.**\n",
    "In the text/markdown fields after your code cell in the Notebook, answer these questions:"
   ]
  },
  {
   "cell_type": "markdown",
   "id": "90ddcecf",
   "metadata": {},
   "source": [
    "1. How many prefixes did you identify?"
   ]
  },
  {
   "cell_type": "markdown",
   "id": "6abe2771",
   "metadata": {},
   "source": [
    "<span style=\"color:red\">**Only 1 prefix with RTBH event was identified.**</span>\n"
   ]
  },
  {
   "cell_type": "markdown",
   "id": "58202993",
   "metadata": {},
   "source": [
    "2. How many RTBH events did you identify for all your identified prefixes?"
   ]
  },
  {
   "cell_type": "markdown",
   "id": "7568f045",
   "metadata": {},
   "source": [
    "<span style=\"color:red\">**There are 4 RTBH events for all the identified prefixes.**</span>\n",
    "\n"
   ]
  },
  {
   "cell_type": "markdown",
   "id": "brief-processing",
   "metadata": {},
   "source": [
    "**Task 4. A/W Events**\n",
    "\n",
    "**A.** Locate the directory `update_files_pt4` included with this assignment. This is a collection of BGP Updates for a two-hour\n",
    "window starting at 21-01-02 05:10. As with previous tasks, you will need to write code to process all of the cache files.\n",
    "For this section, you will measure the duration of Announcement Withdrawal (AW) events for all IPV4 prefixes.\n",
    "\n",
    "To do this, you will want to keep track of the tuples <advertised prefix IPV4 – peerIP>, and for each tuple measure the\n",
    "durations of AW events. For example, for a stream A1 A2 A3 W1 W2 W3 W4, compute the A3-W1 per prefix, and per peer IP."
   ]
  },
  {
   "cell_type": "code",
   "execution_count": 36,
   "id": "ordered-beatles",
   "metadata": {},
   "outputs": [],
   "source": [
    "# Replace the contents of this cell with your code for Task 4 part A\n",
    "updatept4_file_path = '/home/mininet/Desktop/BGPMeasurements/bgpm/cache_files/update_files_pt4/'\n",
    "filespt4 = []\n",
    "durationpt4 = []\n",
    "for f in os.listdir(updatept4_file_path):\n",
    "    filespt4.append(f)\n",
    "filespt4.sort()\n",
    "\n",
    "for f in filespt4:\n",
    "    stream = pybgpstream.BGPStream(data_interface='singlefile',\n",
    "                                   filter='ipversion 4'\n",
    "                                    )\n",
    "    stream.set_data_interface_option('singlefile', 'rib-file', updatept4_file_path + f)\n",
    "    durationpt4.append(stream)\n",
    "\n",
    "all_elem = defaultdict(lambda: [])\n",
    "\n",
    "count_communities_rtbh = 0\n",
    "for stream in durationpt4:\n",
    "    for rec in stream.records():\n",
    "        for elem in rec:\n",
    "            if elem.type == 'A':\n",
    "                pfx = elem.fields['prefix']\n",
    "                peer_add = elem.peer_address\n",
    "                all_elem[(pfx, peer_add)].append(('A', int(elem.time), elem))\n",
    "            elif elem.type == 'W':\n",
    "                pfx = elem.fields['prefix']\n",
    "                peer_add = elem.peer_address\n",
    "                if (pfx, peer_add) in all_elem.keys():\n",
    "                    all_elem[(pfx, peer_add)].append(('W', int(elem.time)))\n",
    "                    \n",
    "duration_list = defaultdict(lambda: [])\n",
    "\n",
    "for (pfx, peerip) in all_elem.keys():\n",
    "    curr_A = ()\n",
    "    prev_is_A = False\n",
    "    for e in all_elem[(pfx, peerip)]:\n",
    "        if e[0] == 'A':\n",
    "            prev_is_A = True\n",
    "            curr_A = e\n",
    "        elif e[0] == 'W' and prev_is_A:\n",
    "            dur = e[1] - curr_A[1]\n",
    "            if dur > 0:\n",
    "                duration_list[(pfx, peerip)].append(dur)\n",
    "            prev_is_A = False\n",
    "            curr_A = ()\n",
    "        else:\n",
    "            prev_is_A = False\n",
    "            curr_A = ()\n",
    "                    \n",
    "shortest_dur = []\n",
    "shortest_tuple = set()\n",
    "count_shortest_dur = 0\n",
    "\n",
    "for v in duration_list.values():\n",
    "    for i in v:\n",
    "        i = int(i)\n",
    "        if count_shortest_dur < 10:\n",
    "            count_shortest_dur += 1\n",
    "            shortest_dur.append(i)\n",
    "        elif i < max(shortest_dur):\n",
    "            shortest_dur.remove(max(shortest_dur))\n",
    "            shortest_dur.append(i)\n",
    "\n",
    "for k in duration_list.keys():\n",
    "    if any(x in shortest_dur for x in duration_list[k]):\n",
    "        shortest_tuple.add(k)\n",
    "\n",
    "# print(shortest_dur)\n",
    "# print(shortest_tuple)"
   ]
  },
  {
   "cell_type": "markdown",
   "id": "bigger-logistics",
   "metadata": {},
   "source": [
    "**B.**\n",
    "In the text/markdown fields after your code cell in the Notebook, answer these questions.\n",
    "Please note that we are only interested in non-zero durations.\n"
   ]
  },
  {
   "cell_type": "markdown",
   "id": "7d7e6bae",
   "metadata": {},
   "source": [
    "1. Which are the tuples <advertised prefix IPV4 – peerIP> with the top 10 shortest AW durations?"
   ]
  },
  {
   "cell_type": "markdown",
   "id": "650d0618",
   "metadata": {},
   "source": [
    "<span style=\"color:red\">**There are 230 unique tuples that correspond to the top 10 occurance of shortest AW durations, being: <br>\n",
    "    ('177.53.131.0/24', '202.249.2.185'), ('103.135.137.0/24', '202.249.2.185'), ('197.156.99.0/24', '202.249.2.185'), ('161.217.67.0/24', '202.249.2.185'), ('154.176.12.0/22', '202.249.2.185'), ('104.70.172.0/24', '202.249.2.185'), ('103.242.184.0/23', '202.249.2.185'), ('150.107.28.0/22', '202.249.2.185'), ('197.156.100.0/22', '202.249.2.185'), ('196.190.96.0/19', '202.249.2.185'), ('196.190.224.0/19', '202.249.2.185'), ('196.191.192.0/18', '202.249.2.185'), ('176.100.128.0/19', '202.249.2.185'), ('119.235.64.0/19', '202.249.2.185'), ('205.107.192.0/24', '202.249.2.185'), ('102.223.112.0/23', '202.249.2.185'), ('91.220.96.0/24', '202.249.2.185'), ('213.55.98.0/23', '202.249.2.185'), ('172.98.176.0/24', '202.249.2.185'), ('84.205.67.0/24', '202.249.2.185'), ('200.196.84.0/24', '202.249.2.185'), ('196.190.160.0/19', '202.249.2.185'), ('102.23.90.0/24', '202.249.2.185'), ('196.189.56.0/24', '202.249.2.185'), ('202.29.11.0/24', '202.249.2.185'), ('64.192.5.0/24', '202.249.2.185'), ('99.194.200.0/22', '202.249.2.185'), ('64.68.236.0/22', '202.249.2.185'), ('35.206.1.0/24', '202.249.2.185'), ('106.76.15.0/24', '202.249.2.185'), ('64.192.1.0/24', '202.249.2.185'), ('199.187.120.0/21', '202.249.2.185'), ('205.68.240.0/20', '202.249.2.185'), ('197.156.94.0/24', '202.249.2.185'), ('177.221.118.0/24', '202.249.2.185'), ('23.47.126.0/24', '202.249.2.185'), ('189.125.73.0/24', '202.249.2.185'), ('203.83.23.0/24', '202.249.2.185'), ('103.117.38.0/24', '202.249.2.185'), ('177.53.135.0/24', '202.249.2.185'), ('196.189.12.0/24', '202.249.2.185'), ('213.55.113.0/24', '202.249.2.185'), ('159.214.0.0/16', '202.249.2.185'), ('216.238.254.0/23', '202.249.2.185'), ('197.156.76.0/22', '202.249.2.185'), ('117.240.231.0/24', '202.249.2.185'), ('63.92.224.0/20', '202.249.2.185'), ('180.151.232.0/24', '202.249.2.185'), ('41.79.198.0/24', '202.249.2.185'), ('103.122.72.0/24', '202.249.2.185'), ('103.132.224.0/24', '202.249.2.185'), ('201.87.247.0/24', '202.249.2.185'), ('191.103.111.0/24', '202.249.2.185'), ('196.189.0.0/18', '202.249.2.185'), ('197.156.126.0/24', '202.249.2.185'), ('103.70.58.0/24', '202.249.2.185'), ('202.29.8.0/24', '202.249.2.185'), ('27.255.63.0/24', '202.249.2.185'), ('157.128.200.0/24', '202.249.2.185'), ('205.99.96.0/20', '202.249.2.185'), ('172.102.212.0/24', '202.249.2.185'), ('196.190.95.0/24', '202.249.2.185'), ('176.96.248.0/24', '202.249.2.185'), ('205.72.64.0/20', '202.249.2.185'), ('177.23.220.0/24', '202.249.2.185'), ('168.91.88.0/22', '202.249.2.185'), ('213.55.90.0/24', '202.249.2.185'), ('84.21.169.0/24', '202.249.2.185'), ('117.222.144.0/20', '202.249.2.185'), ('205.86.82.0/24', '202.249.2.185'), ('117.218.112.0/20', '202.249.2.185'), ('130.137.79.0/24', '202.249.2.185'), ('41.89.234.0/24', '202.249.2.185'), ('64.192.3.0/24', '202.249.2.185'), ('201.158.46.0/24', '202.249.2.185'), ('199.80.161.0/24', '202.249.2.185'), ('103.143.88.0/24', '202.249.2.185'), ('187.103.144.0/24', '202.249.2.185'), ('197.167.152.0/22', '202.249.2.185'), ('103.125.31.0/24', '202.249.2.185'), ('103.143.89.0/24', '202.249.2.185'), ('117.200.48.0/20', '202.249.2.185'), ('45.188.64.0/22', '202.249.2.185'), ('64.192.4.0/24', '202.249.2.185'), ('103.109.237.0/24', '202.249.2.185'), ('205.89.16.0/22', '202.249.2.185'), ('185.164.64.0/24', '202.249.2.185'), ('184.51.92.0/22', '202.249.2.185'), ('45.39.54.0/24', '202.249.2.185'), ('191.53.52.0/24', '202.249.2.185'), ('165.83.26.0/23', '202.249.2.185'), ('130.137.111.0/24', '202.249.2.185'), ('63.92.224.0/19', '202.249.2.185'), ('91.226.58.0/23', '202.249.2.185'), ('130.137.89.0/24', '202.249.2.185'), ('196.188.224.0/19', '202.249.2.185'), ('205.107.52.0/24', '202.249.2.185'), ('187.84.127.0/24', '202.249.2.185'), ('197.156.85.0/24', '202.249.2.185'), ('130.137.81.0/24', '202.249.2.185'), ('168.181.134.0/24', '202.249.2.185'), ('197.156.101.0/24', '202.249.2.185'), ('163.53.72.0/22', '202.249.2.185'), ('130.137.85.0/24', '202.249.2.185'), ('200.196.93.0/24', '202.249.2.185'), ('84.205.71.0/24', '202.249.2.185'), ('103.109.236.0/24', '202.249.2.185'), ('76.72.160.0/20', '202.249.2.185'), ('196.190.65.0/24', '202.249.2.185'), ('184.164.238.0/24', '202.249.2.185'), ('45.15.179.0/24', '202.249.2.185'), ('117.248.16.0/20', '202.249.2.185'), ('184.51.60.0/23', '202.249.2.185'), ('130.137.105.0/24', '202.249.2.185'), ('208.81.64.0/24', '202.249.2.185'), ('205.73.96.0/20', '202.249.2.185'), ('45.163.17.0/24', '202.249.2.185'), ('196.189.57.0/24', '202.249.2.185'), ('142.131.248.0/22', '202.249.2.185'), ('196.202.100.0/24', '202.249.2.185'), ('196.189.26.0/24', '202.249.2.185'), ('67.211.53.0/24', '202.249.2.185'), ('185.66.226.0/24', '202.249.2.185'), ('191.103.108.0/24', '202.249.2.185'), ('170.79.248.0/23', '202.249.2.185'), ('117.202.32.0/20', '202.249.2.185'), ('103.117.39.0/24', '202.249.2.185'), ('27.123.247.0/24', '202.249.2.185'), ('103.127.183.0/24', '202.249.2.185'), ('176.67.215.0/24', '202.249.2.185'), ('213.204.92.0/24', '202.249.2.185'), ('170.79.250.0/23', '202.249.2.185'), ('172.98.161.0/24', '202.249.2.185'), ('117.208.224.0/20', '202.249.2.185'), ('197.156.124.0/24', '202.249.2.185'), ('189.125.236.0/24', '202.249.2.185'), ('68.66.25.0/24', '202.249.2.185'), ('130.137.90.0/24', '202.249.2.185'), ('130.137.102.0/24', '202.249.2.185'), ('130.137.99.0/24', '202.249.2.185'), ('203.219.131.0/24', '202.249.2.185'), ('196.188.245.0/24', '202.249.2.185'), ('214.60.59.0/24', '202.249.2.185'), ('202.29.10.0/24', '202.249.2.185'), ('23.41.224.0/20', '202.249.2.185'), ('5.253.233.0/24', '202.249.2.185'), ('130.137.78.0/24', '202.249.2.185'), ('59.96.160.0/20', '202.249.2.185'), ('191.103.107.0/24', '202.249.2.185'), ('196.189.63.0/24', '202.249.2.185'), ('177.36.3.0/24', '202.249.2.185'), ('117.218.80.0/20', '202.249.2.185'), ('125.224.62.0/24', '202.249.2.185'), ('117.192.160.0/20', '202.249.2.185'), ('177.53.134.0/24', '202.249.2.185'), ('189.91.49.0/24', '202.249.2.185'), ('185.239.93.0/24', '202.249.2.185'), ('205.98.32.0/20', '202.249.2.185'), ('130.137.80.0/24', '202.249.2.185'), ('64.184.245.0/24', '202.249.2.185'), ('184.26.39.0/24', '202.249.2.185'), ('84.236.152.0/24', '202.249.2.185'), ('214.60.61.0/24', '202.249.2.185'), ('201.158.43.0/24', '202.249.2.185'), ('192.64.69.0/24', '202.249.2.185'), ('84.205.66.0/24', '202.249.2.185'), ('103.136.200.0/23', '202.249.2.185'), ('187.84.125.0/24', '202.249.2.185'), ('117.253.160.0/20', '202.249.2.185'), ('196.190.127.0/24', '202.249.2.185'), ('172.102.204.0/24', '202.249.2.185'), ('184.25.0.0/20', '202.249.2.185'), ('103.93.40.0/22', '202.249.2.185'), ('41.223.184.0/24', '202.249.2.185'), ('185.164.65.0/24', '202.249.2.185'), ('192.100.178.0/24', '202.249.2.185'), ('191.240.38.0/24', '202.249.2.185'), ('196.49.72.0/24', '202.249.2.185'), ('103.150.56.0/24', '202.249.2.185'), ('106.76.13.0/24', '202.249.2.185'), ('64.192.0.0/24', '202.249.2.185'), ('170.80.56.0/24', '202.249.2.185'), ('117.216.80.0/20', '202.249.2.185'), ('177.53.129.0/24', '202.249.2.185'), ('191.240.38.0/23', '202.249.2.185'), ('31.22.110.0/24', '202.249.2.185'), ('213.55.101.0/24', '202.249.2.185'), ('84.205.68.0/24', '202.249.2.185'), ('196.188.192.0/18', '202.249.2.185'), ('142.131.252.0/24', '202.249.2.185'), ('103.242.184.0/22', '202.249.2.185'), ('202.29.9.0/24', '202.249.2.185'), ('117.216.144.0/20', '202.249.2.185'), ('177.53.130.0/24', '202.249.2.185'), ('205.86.81.0/24', '202.249.2.185'), ('194.36.164.0/24', '202.249.2.185'), ('83.101.130.0/24', '202.249.2.185'), ('205.98.128.0/20', '202.249.2.185'), ('184.27.48.0/20', '202.249.2.185'), ('196.191.250.0/24', '202.249.2.185'), ('117.248.48.0/20', '202.249.2.185'), ('172.98.180.0/24', '202.249.2.185'), ('172.98.189.0/24', '202.249.2.185'), ('103.148.64.0/24', '202.249.2.185'), ('149.13.25.0/24', '202.249.2.185'), ('59.92.192.0/20', '202.249.2.185'), ('197.156.79.0/24', '202.249.2.185'), ('117.239.136.0/21', '202.249.2.185'), ('205.78.128.0/20', '202.249.2.185'), ('143.70.237.0/24', '202.249.2.185'), ('45.128.120.0/24', '202.249.2.185'), ('41.89.220.0/24', '202.249.2.185'), ('196.189.84.0/24', '202.249.2.185'), ('196.188.160.0/19', '202.249.2.185'), ('177.39.104.0/22', '202.249.2.185'), ('170.80.57.0/24', '202.249.2.185'), ('84.205.82.0/24', '202.249.2.185'), ('130.137.86.0/24', '202.249.2.185'), ('64.192.2.0/24', '202.249.2.185'), ('187.103.152.0/24', '202.249.2.185'), ('214.60.91.0/24', '202.249.2.185'), ('197.156.117.0/24', '202.249.2.185'), ('82.132.185.0/24', '202.249.2.185'), ('196.190.255.0/24', '202.249.2.185'), ('189.8.108.0/23', '202.249.2.185'), ('41.178.196.0/23', '202.249.2.185'), ('196.188.43.0/24', '202.249.2.185'), ('117.253.144.0/20', '202.249.2.185'), ('172.121.90.0/24', '202.249.2.185'), ('45.73.168.0/23', '202.249.2.185')**</span>\n"
   ]
  },
  {
   "cell_type": "markdown",
   "id": "62aa2392",
   "metadata": {},
   "source": [
    "2. What are the corresponding durations?"
   ]
  },
  {
   "cell_type": "markdown",
   "id": "ecbfcad8",
   "metadata": {},
   "source": [
    "<span style=\"color:red\">**The top 10 occurance of shortest duration in this question all equals to 1, being [1,1,1,1,1,1,1,1,1,1]**</span>"
   ]
  }
 ],
 "metadata": {
  "kernelspec": {
   "display_name": "Python 3 (ipykernel)",
   "language": "python",
   "name": "python3"
  },
  "language_info": {
   "codemirror_mode": {
    "name": "ipython",
    "version": 3
   },
   "file_extension": ".py",
   "mimetype": "text/x-python",
   "name": "python",
   "nbconvert_exporter": "python",
   "pygments_lexer": "ipython3",
   "version": "3.8.2"
  }
 },
 "nbformat": 4,
 "nbformat_minor": 5
}
